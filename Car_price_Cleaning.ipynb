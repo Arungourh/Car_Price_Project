{
 "cells": [
  {
   "cell_type": "code",
   "execution_count": 1,
   "id": "44424ecb-51b7-4734-9579-855e9d39b1ec",
   "metadata": {},
   "outputs": [],
   "source": [
    "import numpy as np\n",
    "import pandas as pd\n",
    "import seaborn as sns\n",
    "import matplotlib.pyplot as plt"
   ]
  },
  {
   "cell_type": "code",
   "execution_count": 2,
   "id": "419b4b69-56cd-48c5-8c69-a3ffd5a64bb8",
   "metadata": {},
   "outputs": [
    {
     "data": {
      "text/html": [
       "<div>\n",
       "<style scoped>\n",
       "    .dataframe tbody tr th:only-of-type {\n",
       "        vertical-align: middle;\n",
       "    }\n",
       "\n",
       "    .dataframe tbody tr th {\n",
       "        vertical-align: top;\n",
       "    }\n",
       "\n",
       "    .dataframe thead th {\n",
       "        text-align: right;\n",
       "    }\n",
       "</style>\n",
       "<table border=\"1\" class=\"dataframe\">\n",
       "  <thead>\n",
       "    <tr style=\"text-align: right;\">\n",
       "      <th></th>\n",
       "      <th>Unnamed: 0</th>\n",
       "      <th>car_name</th>\n",
       "      <th>car_prices_in_rupee</th>\n",
       "      <th>kms_driven</th>\n",
       "      <th>fuel_type</th>\n",
       "      <th>transmission</th>\n",
       "      <th>ownership</th>\n",
       "      <th>manufacture</th>\n",
       "      <th>engine</th>\n",
       "      <th>Seats</th>\n",
       "    </tr>\n",
       "  </thead>\n",
       "  <tbody>\n",
       "    <tr>\n",
       "      <th>0</th>\n",
       "      <td>0</td>\n",
       "      <td>Jeep Compass 2.0 Longitude Option BSIV</td>\n",
       "      <td>10.03 Lakh</td>\n",
       "      <td>86,226 kms</td>\n",
       "      <td>Diesel</td>\n",
       "      <td>Manual</td>\n",
       "      <td>1st Owner</td>\n",
       "      <td>2017</td>\n",
       "      <td>1956 cc</td>\n",
       "      <td>5 Seats</td>\n",
       "    </tr>\n",
       "    <tr>\n",
       "      <th>1</th>\n",
       "      <td>1</td>\n",
       "      <td>Renault Duster RXZ Turbo CVT</td>\n",
       "      <td>12.83 Lakh</td>\n",
       "      <td>13,248 kms</td>\n",
       "      <td>Petrol</td>\n",
       "      <td>Automatic</td>\n",
       "      <td>1st Owner</td>\n",
       "      <td>2021</td>\n",
       "      <td>1330 cc</td>\n",
       "      <td>5 Seats</td>\n",
       "    </tr>\n",
       "    <tr>\n",
       "      <th>2</th>\n",
       "      <td>2</td>\n",
       "      <td>Toyota Camry 2.5 G</td>\n",
       "      <td>16.40 Lakh</td>\n",
       "      <td>60,343 kms</td>\n",
       "      <td>Petrol</td>\n",
       "      <td>Automatic</td>\n",
       "      <td>1st Owner</td>\n",
       "      <td>2016</td>\n",
       "      <td>2494 cc</td>\n",
       "      <td>5 Seats</td>\n",
       "    </tr>\n",
       "    <tr>\n",
       "      <th>3</th>\n",
       "      <td>3</td>\n",
       "      <td>Honda Jazz VX CVT</td>\n",
       "      <td>7.77 Lakh</td>\n",
       "      <td>26,696 kms</td>\n",
       "      <td>Petrol</td>\n",
       "      <td>Automatic</td>\n",
       "      <td>1st Owner</td>\n",
       "      <td>2018</td>\n",
       "      <td>1199 cc</td>\n",
       "      <td>5 Seats</td>\n",
       "    </tr>\n",
       "    <tr>\n",
       "      <th>4</th>\n",
       "      <td>4</td>\n",
       "      <td>Volkswagen Polo 1.2 MPI Highline</td>\n",
       "      <td>5.15 Lakh</td>\n",
       "      <td>69,414 kms</td>\n",
       "      <td>Petrol</td>\n",
       "      <td>Manual</td>\n",
       "      <td>1st Owner</td>\n",
       "      <td>2016</td>\n",
       "      <td>1199 cc</td>\n",
       "      <td>5 Seats</td>\n",
       "    </tr>\n",
       "    <tr>\n",
       "      <th>...</th>\n",
       "      <td>...</td>\n",
       "      <td>...</td>\n",
       "      <td>...</td>\n",
       "      <td>...</td>\n",
       "      <td>...</td>\n",
       "      <td>...</td>\n",
       "      <td>...</td>\n",
       "      <td>...</td>\n",
       "      <td>...</td>\n",
       "      <td>...</td>\n",
       "    </tr>\n",
       "    <tr>\n",
       "      <th>5507</th>\n",
       "      <td>5507</td>\n",
       "      <td>BMW X1 sDrive 20d xLine</td>\n",
       "      <td>28.90 Lakh</td>\n",
       "      <td>45,000 kms</td>\n",
       "      <td>Diesel</td>\n",
       "      <td>Automatic</td>\n",
       "      <td>1st Owner</td>\n",
       "      <td>2018</td>\n",
       "      <td>2995 cc</td>\n",
       "      <td>7 Seats</td>\n",
       "    </tr>\n",
       "    <tr>\n",
       "      <th>5508</th>\n",
       "      <td>5508</td>\n",
       "      <td>BMW M Series M4 Coupe</td>\n",
       "      <td>64.90 Lakh</td>\n",
       "      <td>29,000 kms</td>\n",
       "      <td>Petrol</td>\n",
       "      <td>Automatic</td>\n",
       "      <td>2nd Owner</td>\n",
       "      <td>2015</td>\n",
       "      <td>1968 cc</td>\n",
       "      <td>5 Seats</td>\n",
       "    </tr>\n",
       "    <tr>\n",
       "      <th>5509</th>\n",
       "      <td>5509</td>\n",
       "      <td>Jaguar XF 2.2 Litre Luxury</td>\n",
       "      <td>13.75 Lakh</td>\n",
       "      <td>90,000 kms</td>\n",
       "      <td>Diesel</td>\n",
       "      <td>Automatic</td>\n",
       "      <td>2nd Owner</td>\n",
       "      <td>2013</td>\n",
       "      <td>2755 cc</td>\n",
       "      <td>5 Seats</td>\n",
       "    </tr>\n",
       "    <tr>\n",
       "      <th>5510</th>\n",
       "      <td>5510</td>\n",
       "      <td>BMW 7 Series 730Ld</td>\n",
       "      <td>29.90 Lakh</td>\n",
       "      <td>79,000 kms</td>\n",
       "      <td>Diesel</td>\n",
       "      <td>Automatic</td>\n",
       "      <td>3rd Owner</td>\n",
       "      <td>2015</td>\n",
       "      <td>2967 cc</td>\n",
       "      <td>6 Seats</td>\n",
       "    </tr>\n",
       "    <tr>\n",
       "      <th>5511</th>\n",
       "      <td>5511</td>\n",
       "      <td>BMW 5 Series 520d M Sport</td>\n",
       "      <td>31.90 Lakh</td>\n",
       "      <td>42,000 kms</td>\n",
       "      <td>Diesel</td>\n",
       "      <td>Automatic</td>\n",
       "      <td>2nd Owner</td>\n",
       "      <td>2017</td>\n",
       "      <td>1991 cc</td>\n",
       "      <td>5 Seats</td>\n",
       "    </tr>\n",
       "  </tbody>\n",
       "</table>\n",
       "<p>5512 rows × 10 columns</p>\n",
       "</div>"
      ],
      "text/plain": [
       "      Unnamed: 0                                car_name car_prices_in_rupee  \\\n",
       "0              0  Jeep Compass 2.0 Longitude Option BSIV          10.03 Lakh   \n",
       "1              1            Renault Duster RXZ Turbo CVT          12.83 Lakh   \n",
       "2              2                      Toyota Camry 2.5 G          16.40 Lakh   \n",
       "3              3                       Honda Jazz VX CVT           7.77 Lakh   \n",
       "4              4        Volkswagen Polo 1.2 MPI Highline           5.15 Lakh   \n",
       "...          ...                                     ...                 ...   \n",
       "5507        5507                 BMW X1 sDrive 20d xLine          28.90 Lakh   \n",
       "5508        5508                   BMW M Series M4 Coupe          64.90 Lakh   \n",
       "5509        5509              Jaguar XF 2.2 Litre Luxury          13.75 Lakh   \n",
       "5510        5510                      BMW 7 Series 730Ld          29.90 Lakh   \n",
       "5511        5511               BMW 5 Series 520d M Sport          31.90 Lakh   \n",
       "\n",
       "      kms_driven fuel_type transmission  ownership  manufacture   engine  \\\n",
       "0     86,226 kms    Diesel       Manual  1st Owner         2017  1956 cc   \n",
       "1     13,248 kms    Petrol    Automatic  1st Owner         2021  1330 cc   \n",
       "2     60,343 kms    Petrol    Automatic  1st Owner         2016  2494 cc   \n",
       "3     26,696 kms    Petrol    Automatic  1st Owner         2018  1199 cc   \n",
       "4     69,414 kms    Petrol       Manual  1st Owner         2016  1199 cc   \n",
       "...          ...       ...          ...        ...          ...      ...   \n",
       "5507  45,000 kms    Diesel    Automatic  1st Owner         2018  2995 cc   \n",
       "5508  29,000 kms    Petrol    Automatic  2nd Owner         2015  1968 cc   \n",
       "5509  90,000 kms    Diesel    Automatic  2nd Owner         2013  2755 cc   \n",
       "5510  79,000 kms    Diesel    Automatic  3rd Owner         2015  2967 cc   \n",
       "5511  42,000 kms    Diesel    Automatic  2nd Owner         2017  1991 cc   \n",
       "\n",
       "        Seats  \n",
       "0     5 Seats  \n",
       "1     5 Seats  \n",
       "2     5 Seats  \n",
       "3     5 Seats  \n",
       "4     5 Seats  \n",
       "...       ...  \n",
       "5507  7 Seats  \n",
       "5508  5 Seats  \n",
       "5509  5 Seats  \n",
       "5510  6 Seats  \n",
       "5511  5 Seats  \n",
       "\n",
       "[5512 rows x 10 columns]"
      ]
     },
     "execution_count": 2,
     "metadata": {},
     "output_type": "execute_result"
    }
   ],
   "source": [
    "df = pd.read_csv(\"car_price.csv\")\n",
    "df"
   ]
  },
  {
   "cell_type": "code",
   "execution_count": 3,
   "id": "bad21004-c632-42e4-a005-e2651beae551",
   "metadata": {},
   "outputs": [
    {
     "data": {
      "text/html": [
       "<div>\n",
       "<style scoped>\n",
       "    .dataframe tbody tr th:only-of-type {\n",
       "        vertical-align: middle;\n",
       "    }\n",
       "\n",
       "    .dataframe tbody tr th {\n",
       "        vertical-align: top;\n",
       "    }\n",
       "\n",
       "    .dataframe thead th {\n",
       "        text-align: right;\n",
       "    }\n",
       "</style>\n",
       "<table border=\"1\" class=\"dataframe\">\n",
       "  <thead>\n",
       "    <tr style=\"text-align: right;\">\n",
       "      <th></th>\n",
       "      <th>Unnamed: 0</th>\n",
       "      <th>car_name</th>\n",
       "      <th>car_prices_in_rupee</th>\n",
       "      <th>kms_driven</th>\n",
       "      <th>fuel_type</th>\n",
       "      <th>transmission</th>\n",
       "      <th>ownership</th>\n",
       "      <th>manufacture</th>\n",
       "      <th>engine</th>\n",
       "      <th>Seats</th>\n",
       "    </tr>\n",
       "  </thead>\n",
       "  <tbody>\n",
       "    <tr>\n",
       "      <th>0</th>\n",
       "      <td>0</td>\n",
       "      <td>Jeep Compass 2.0 Longitude Option BSIV</td>\n",
       "      <td>10.03 Lakh</td>\n",
       "      <td>86,226 kms</td>\n",
       "      <td>Diesel</td>\n",
       "      <td>Manual</td>\n",
       "      <td>1st Owner</td>\n",
       "      <td>2017</td>\n",
       "      <td>1956 cc</td>\n",
       "      <td>5 Seats</td>\n",
       "    </tr>\n",
       "    <tr>\n",
       "      <th>1</th>\n",
       "      <td>1</td>\n",
       "      <td>Renault Duster RXZ Turbo CVT</td>\n",
       "      <td>12.83 Lakh</td>\n",
       "      <td>13,248 kms</td>\n",
       "      <td>Petrol</td>\n",
       "      <td>Automatic</td>\n",
       "      <td>1st Owner</td>\n",
       "      <td>2021</td>\n",
       "      <td>1330 cc</td>\n",
       "      <td>5 Seats</td>\n",
       "    </tr>\n",
       "    <tr>\n",
       "      <th>2</th>\n",
       "      <td>2</td>\n",
       "      <td>Toyota Camry 2.5 G</td>\n",
       "      <td>16.40 Lakh</td>\n",
       "      <td>60,343 kms</td>\n",
       "      <td>Petrol</td>\n",
       "      <td>Automatic</td>\n",
       "      <td>1st Owner</td>\n",
       "      <td>2016</td>\n",
       "      <td>2494 cc</td>\n",
       "      <td>5 Seats</td>\n",
       "    </tr>\n",
       "    <tr>\n",
       "      <th>3</th>\n",
       "      <td>3</td>\n",
       "      <td>Honda Jazz VX CVT</td>\n",
       "      <td>7.77 Lakh</td>\n",
       "      <td>26,696 kms</td>\n",
       "      <td>Petrol</td>\n",
       "      <td>Automatic</td>\n",
       "      <td>1st Owner</td>\n",
       "      <td>2018</td>\n",
       "      <td>1199 cc</td>\n",
       "      <td>5 Seats</td>\n",
       "    </tr>\n",
       "    <tr>\n",
       "      <th>4</th>\n",
       "      <td>4</td>\n",
       "      <td>Volkswagen Polo 1.2 MPI Highline</td>\n",
       "      <td>5.15 Lakh</td>\n",
       "      <td>69,414 kms</td>\n",
       "      <td>Petrol</td>\n",
       "      <td>Manual</td>\n",
       "      <td>1st Owner</td>\n",
       "      <td>2016</td>\n",
       "      <td>1199 cc</td>\n",
       "      <td>5 Seats</td>\n",
       "    </tr>\n",
       "  </tbody>\n",
       "</table>\n",
       "</div>"
      ],
      "text/plain": [
       "   Unnamed: 0                                car_name car_prices_in_rupee  \\\n",
       "0           0  Jeep Compass 2.0 Longitude Option BSIV          10.03 Lakh   \n",
       "1           1            Renault Duster RXZ Turbo CVT          12.83 Lakh   \n",
       "2           2                      Toyota Camry 2.5 G          16.40 Lakh   \n",
       "3           3                       Honda Jazz VX CVT           7.77 Lakh   \n",
       "4           4        Volkswagen Polo 1.2 MPI Highline           5.15 Lakh   \n",
       "\n",
       "   kms_driven fuel_type transmission  ownership  manufacture   engine    Seats  \n",
       "0  86,226 kms    Diesel       Manual  1st Owner         2017  1956 cc  5 Seats  \n",
       "1  13,248 kms    Petrol    Automatic  1st Owner         2021  1330 cc  5 Seats  \n",
       "2  60,343 kms    Petrol    Automatic  1st Owner         2016  2494 cc  5 Seats  \n",
       "3  26,696 kms    Petrol    Automatic  1st Owner         2018  1199 cc  5 Seats  \n",
       "4  69,414 kms    Petrol       Manual  1st Owner         2016  1199 cc  5 Seats  "
      ]
     },
     "execution_count": 3,
     "metadata": {},
     "output_type": "execute_result"
    }
   ],
   "source": [
    "df.head(5)"
   ]
  },
  {
   "cell_type": "code",
   "execution_count": 4,
   "id": "d4d5df0c-f57e-464d-adcf-bff31f9d29cd",
   "metadata": {},
   "outputs": [
    {
     "name": "stdout",
     "output_type": "stream",
     "text": [
      "<class 'pandas.core.frame.DataFrame'>\n",
      "RangeIndex: 5512 entries, 0 to 5511\n",
      "Data columns (total 10 columns):\n",
      " #   Column               Non-Null Count  Dtype \n",
      "---  ------               --------------  ----- \n",
      " 0   Unnamed: 0           5512 non-null   int64 \n",
      " 1   car_name             5512 non-null   object\n",
      " 2   car_prices_in_rupee  5512 non-null   object\n",
      " 3   kms_driven           5512 non-null   object\n",
      " 4   fuel_type            5512 non-null   object\n",
      " 5   transmission         5512 non-null   object\n",
      " 6   ownership            5512 non-null   object\n",
      " 7   manufacture          5512 non-null   int64 \n",
      " 8   engine               5512 non-null   object\n",
      " 9   Seats                5512 non-null   object\n",
      "dtypes: int64(2), object(8)\n",
      "memory usage: 430.8+ KB\n"
     ]
    }
   ],
   "source": [
    "df.info()"
   ]
  },
  {
   "cell_type": "code",
   "execution_count": 5,
   "id": "84d789ff-9bb7-4351-acfd-df98050f886c",
   "metadata": {},
   "outputs": [
    {
     "data": {
      "text/plain": [
       "Unnamed: 0             0\n",
       "car_name               0\n",
       "car_prices_in_rupee    0\n",
       "kms_driven             0\n",
       "fuel_type              0\n",
       "transmission           0\n",
       "ownership              0\n",
       "manufacture            0\n",
       "engine                 0\n",
       "Seats                  0\n",
       "dtype: int64"
      ]
     },
     "execution_count": 5,
     "metadata": {},
     "output_type": "execute_result"
    }
   ],
   "source": [
    "df.isnull().sum()"
   ]
  },
  {
   "cell_type": "code",
   "execution_count": 6,
   "id": "ca26574b-eed6-4041-83e0-17a9b7d27a89",
   "metadata": {},
   "outputs": [
    {
     "data": {
      "text/html": [
       "<div>\n",
       "<style scoped>\n",
       "    .dataframe tbody tr th:only-of-type {\n",
       "        vertical-align: middle;\n",
       "    }\n",
       "\n",
       "    .dataframe tbody tr th {\n",
       "        vertical-align: top;\n",
       "    }\n",
       "\n",
       "    .dataframe thead th {\n",
       "        text-align: right;\n",
       "    }\n",
       "</style>\n",
       "<table border=\"1\" class=\"dataframe\">\n",
       "  <thead>\n",
       "    <tr style=\"text-align: right;\">\n",
       "      <th></th>\n",
       "      <th>Unnamed: 0</th>\n",
       "      <th>car_name</th>\n",
       "      <th>car_prices_in_rupee</th>\n",
       "      <th>kms_driven</th>\n",
       "      <th>fuel_type</th>\n",
       "      <th>transmission</th>\n",
       "      <th>ownership</th>\n",
       "      <th>manufacture</th>\n",
       "      <th>engine</th>\n",
       "      <th>Seats</th>\n",
       "    </tr>\n",
       "  </thead>\n",
       "  <tbody>\n",
       "    <tr>\n",
       "      <th>0</th>\n",
       "      <td>0</td>\n",
       "      <td>Jeep Compass 2.0 Longitude Option BSIV</td>\n",
       "      <td>10.03 Lakh</td>\n",
       "      <td>86,226 kms</td>\n",
       "      <td>Diesel</td>\n",
       "      <td>Manual</td>\n",
       "      <td>1st Owner</td>\n",
       "      <td>2017</td>\n",
       "      <td>1956 cc</td>\n",
       "      <td>5 Seats</td>\n",
       "    </tr>\n",
       "  </tbody>\n",
       "</table>\n",
       "</div>"
      ],
      "text/plain": [
       "   Unnamed: 0                                car_name car_prices_in_rupee  \\\n",
       "0           0  Jeep Compass 2.0 Longitude Option BSIV          10.03 Lakh   \n",
       "\n",
       "   kms_driven fuel_type transmission  ownership  manufacture   engine    Seats  \n",
       "0  86,226 kms    Diesel       Manual  1st Owner         2017  1956 cc  5 Seats  "
      ]
     },
     "execution_count": 6,
     "metadata": {},
     "output_type": "execute_result"
    }
   ],
   "source": [
    "df.head(1)"
   ]
  },
  {
   "cell_type": "markdown",
   "id": "0c12169c-3a7f-4308-afaf-fd052cb240e0",
   "metadata": {},
   "source": [
    "# Drop a Column"
   ]
  },
  {
   "cell_type": "code",
   "execution_count": 7,
   "id": "30c3b171-997c-4653-b23f-27929e33a9bf",
   "metadata": {},
   "outputs": [],
   "source": [
    "df.drop([\"Unnamed: 0\"], axis = 1, inplace = True)"
   ]
  },
  {
   "cell_type": "code",
   "execution_count": null,
   "id": "564a92a4-32bc-4490-9679-0ac0aabbc993",
   "metadata": {},
   "outputs": [],
   "source": []
  },
  {
   "cell_type": "markdown",
   "id": "2f8ece4c-08fc-4b29-aee4-eb29799e91ed",
   "metadata": {},
   "source": [
    "# car_name"
   ]
  },
  {
   "cell_type": "code",
   "execution_count": 8,
   "id": "841ef0e0-95ac-49b3-954c-b98da8799809",
   "metadata": {},
   "outputs": [
    {
     "data": {
      "text/html": [
       "<div>\n",
       "<style scoped>\n",
       "    .dataframe tbody tr th:only-of-type {\n",
       "        vertical-align: middle;\n",
       "    }\n",
       "\n",
       "    .dataframe tbody tr th {\n",
       "        vertical-align: top;\n",
       "    }\n",
       "\n",
       "    .dataframe thead th {\n",
       "        text-align: right;\n",
       "    }\n",
       "</style>\n",
       "<table border=\"1\" class=\"dataframe\">\n",
       "  <thead>\n",
       "    <tr style=\"text-align: right;\">\n",
       "      <th></th>\n",
       "      <th>car_name</th>\n",
       "      <th>car_prices_in_rupee</th>\n",
       "      <th>kms_driven</th>\n",
       "      <th>fuel_type</th>\n",
       "      <th>transmission</th>\n",
       "      <th>ownership</th>\n",
       "      <th>manufacture</th>\n",
       "      <th>engine</th>\n",
       "      <th>Seats</th>\n",
       "    </tr>\n",
       "  </thead>\n",
       "  <tbody>\n",
       "    <tr>\n",
       "      <th>0</th>\n",
       "      <td>Jeep Compass 2.0 Longitude Option BSIV</td>\n",
       "      <td>10.03 Lakh</td>\n",
       "      <td>86,226 kms</td>\n",
       "      <td>Diesel</td>\n",
       "      <td>Manual</td>\n",
       "      <td>1st Owner</td>\n",
       "      <td>2017</td>\n",
       "      <td>1956 cc</td>\n",
       "      <td>5 Seats</td>\n",
       "    </tr>\n",
       "    <tr>\n",
       "      <th>1</th>\n",
       "      <td>Renault Duster RXZ Turbo CVT</td>\n",
       "      <td>12.83 Lakh</td>\n",
       "      <td>13,248 kms</td>\n",
       "      <td>Petrol</td>\n",
       "      <td>Automatic</td>\n",
       "      <td>1st Owner</td>\n",
       "      <td>2021</td>\n",
       "      <td>1330 cc</td>\n",
       "      <td>5 Seats</td>\n",
       "    </tr>\n",
       "    <tr>\n",
       "      <th>2</th>\n",
       "      <td>Toyota Camry 2.5 G</td>\n",
       "      <td>16.40 Lakh</td>\n",
       "      <td>60,343 kms</td>\n",
       "      <td>Petrol</td>\n",
       "      <td>Automatic</td>\n",
       "      <td>1st Owner</td>\n",
       "      <td>2016</td>\n",
       "      <td>2494 cc</td>\n",
       "      <td>5 Seats</td>\n",
       "    </tr>\n",
       "    <tr>\n",
       "      <th>3</th>\n",
       "      <td>Honda Jazz VX CVT</td>\n",
       "      <td>7.77 Lakh</td>\n",
       "      <td>26,696 kms</td>\n",
       "      <td>Petrol</td>\n",
       "      <td>Automatic</td>\n",
       "      <td>1st Owner</td>\n",
       "      <td>2018</td>\n",
       "      <td>1199 cc</td>\n",
       "      <td>5 Seats</td>\n",
       "    </tr>\n",
       "    <tr>\n",
       "      <th>4</th>\n",
       "      <td>Volkswagen Polo 1.2 MPI Highline</td>\n",
       "      <td>5.15 Lakh</td>\n",
       "      <td>69,414 kms</td>\n",
       "      <td>Petrol</td>\n",
       "      <td>Manual</td>\n",
       "      <td>1st Owner</td>\n",
       "      <td>2016</td>\n",
       "      <td>1199 cc</td>\n",
       "      <td>5 Seats</td>\n",
       "    </tr>\n",
       "  </tbody>\n",
       "</table>\n",
       "</div>"
      ],
      "text/plain": [
       "                                 car_name car_prices_in_rupee  kms_driven  \\\n",
       "0  Jeep Compass 2.0 Longitude Option BSIV          10.03 Lakh  86,226 kms   \n",
       "1            Renault Duster RXZ Turbo CVT          12.83 Lakh  13,248 kms   \n",
       "2                      Toyota Camry 2.5 G          16.40 Lakh  60,343 kms   \n",
       "3                       Honda Jazz VX CVT           7.77 Lakh  26,696 kms   \n",
       "4        Volkswagen Polo 1.2 MPI Highline           5.15 Lakh  69,414 kms   \n",
       "\n",
       "  fuel_type transmission  ownership  manufacture   engine    Seats  \n",
       "0    Diesel       Manual  1st Owner         2017  1956 cc  5 Seats  \n",
       "1    Petrol    Automatic  1st Owner         2021  1330 cc  5 Seats  \n",
       "2    Petrol    Automatic  1st Owner         2016  2494 cc  5 Seats  \n",
       "3    Petrol    Automatic  1st Owner         2018  1199 cc  5 Seats  \n",
       "4    Petrol       Manual  1st Owner         2016  1199 cc  5 Seats  "
      ]
     },
     "execution_count": 8,
     "metadata": {},
     "output_type": "execute_result"
    }
   ],
   "source": [
    "df.head()"
   ]
  },
  {
   "cell_type": "code",
   "execution_count": 9,
   "id": "bab5123e-8f00-4abc-bc6b-337805ba3c00",
   "metadata": {},
   "outputs": [],
   "source": [
    "def company_name(x):\n",
    "    return x[:x.index(\" \")]   "
   ]
  },
  {
   "cell_type": "code",
   "execution_count": 10,
   "id": "a0d72ccf-858d-483a-8e1c-d73b195a391b",
   "metadata": {},
   "outputs": [],
   "source": [
    "def car_model(x):\n",
    "    return x[x.index(\" \")+1:]  "
   ]
  },
  {
   "cell_type": "code",
   "execution_count": 11,
   "id": "edfa49f6-1ad6-4841-a615-94baf2f68833",
   "metadata": {},
   "outputs": [],
   "source": [
    "df[\"company_name\"]= df[\"car_name\"].apply(company_name)"
   ]
  },
  {
   "cell_type": "code",
   "execution_count": 12,
   "id": "81f8c015-172c-453a-96d0-2b433b4f2247",
   "metadata": {},
   "outputs": [],
   "source": [
    "df[\"car_name\"] = df[\"car_name\"].apply(car_model)"
   ]
  },
  {
   "cell_type": "code",
   "execution_count": 13,
   "id": "aa7d9799-d85d-4f20-aaff-d11522f9fcab",
   "metadata": {},
   "outputs": [
    {
     "data": {
      "text/html": [
       "<div>\n",
       "<style scoped>\n",
       "    .dataframe tbody tr th:only-of-type {\n",
       "        vertical-align: middle;\n",
       "    }\n",
       "\n",
       "    .dataframe tbody tr th {\n",
       "        vertical-align: top;\n",
       "    }\n",
       "\n",
       "    .dataframe thead th {\n",
       "        text-align: right;\n",
       "    }\n",
       "</style>\n",
       "<table border=\"1\" class=\"dataframe\">\n",
       "  <thead>\n",
       "    <tr style=\"text-align: right;\">\n",
       "      <th></th>\n",
       "      <th>car_name</th>\n",
       "      <th>car_prices_in_rupee</th>\n",
       "      <th>kms_driven</th>\n",
       "      <th>fuel_type</th>\n",
       "      <th>transmission</th>\n",
       "      <th>ownership</th>\n",
       "      <th>manufacture</th>\n",
       "      <th>engine</th>\n",
       "      <th>Seats</th>\n",
       "      <th>company_name</th>\n",
       "    </tr>\n",
       "  </thead>\n",
       "  <tbody>\n",
       "    <tr>\n",
       "      <th>0</th>\n",
       "      <td>Compass 2.0 Longitude Option BSIV</td>\n",
       "      <td>10.03 Lakh</td>\n",
       "      <td>86,226 kms</td>\n",
       "      <td>Diesel</td>\n",
       "      <td>Manual</td>\n",
       "      <td>1st Owner</td>\n",
       "      <td>2017</td>\n",
       "      <td>1956 cc</td>\n",
       "      <td>5 Seats</td>\n",
       "      <td>Jeep</td>\n",
       "    </tr>\n",
       "    <tr>\n",
       "      <th>1</th>\n",
       "      <td>Duster RXZ Turbo CVT</td>\n",
       "      <td>12.83 Lakh</td>\n",
       "      <td>13,248 kms</td>\n",
       "      <td>Petrol</td>\n",
       "      <td>Automatic</td>\n",
       "      <td>1st Owner</td>\n",
       "      <td>2021</td>\n",
       "      <td>1330 cc</td>\n",
       "      <td>5 Seats</td>\n",
       "      <td>Renault</td>\n",
       "    </tr>\n",
       "    <tr>\n",
       "      <th>2</th>\n",
       "      <td>Camry 2.5 G</td>\n",
       "      <td>16.40 Lakh</td>\n",
       "      <td>60,343 kms</td>\n",
       "      <td>Petrol</td>\n",
       "      <td>Automatic</td>\n",
       "      <td>1st Owner</td>\n",
       "      <td>2016</td>\n",
       "      <td>2494 cc</td>\n",
       "      <td>5 Seats</td>\n",
       "      <td>Toyota</td>\n",
       "    </tr>\n",
       "    <tr>\n",
       "      <th>3</th>\n",
       "      <td>Jazz VX CVT</td>\n",
       "      <td>7.77 Lakh</td>\n",
       "      <td>26,696 kms</td>\n",
       "      <td>Petrol</td>\n",
       "      <td>Automatic</td>\n",
       "      <td>1st Owner</td>\n",
       "      <td>2018</td>\n",
       "      <td>1199 cc</td>\n",
       "      <td>5 Seats</td>\n",
       "      <td>Honda</td>\n",
       "    </tr>\n",
       "    <tr>\n",
       "      <th>4</th>\n",
       "      <td>Polo 1.2 MPI Highline</td>\n",
       "      <td>5.15 Lakh</td>\n",
       "      <td>69,414 kms</td>\n",
       "      <td>Petrol</td>\n",
       "      <td>Manual</td>\n",
       "      <td>1st Owner</td>\n",
       "      <td>2016</td>\n",
       "      <td>1199 cc</td>\n",
       "      <td>5 Seats</td>\n",
       "      <td>Volkswagen</td>\n",
       "    </tr>\n",
       "  </tbody>\n",
       "</table>\n",
       "</div>"
      ],
      "text/plain": [
       "                            car_name car_prices_in_rupee  kms_driven  \\\n",
       "0  Compass 2.0 Longitude Option BSIV          10.03 Lakh  86,226 kms   \n",
       "1               Duster RXZ Turbo CVT          12.83 Lakh  13,248 kms   \n",
       "2                        Camry 2.5 G          16.40 Lakh  60,343 kms   \n",
       "3                        Jazz VX CVT           7.77 Lakh  26,696 kms   \n",
       "4              Polo 1.2 MPI Highline           5.15 Lakh  69,414 kms   \n",
       "\n",
       "  fuel_type transmission  ownership  manufacture   engine    Seats  \\\n",
       "0    Diesel       Manual  1st Owner         2017  1956 cc  5 Seats   \n",
       "1    Petrol    Automatic  1st Owner         2021  1330 cc  5 Seats   \n",
       "2    Petrol    Automatic  1st Owner         2016  2494 cc  5 Seats   \n",
       "3    Petrol    Automatic  1st Owner         2018  1199 cc  5 Seats   \n",
       "4    Petrol       Manual  1st Owner         2016  1199 cc  5 Seats   \n",
       "\n",
       "  company_name  \n",
       "0         Jeep  \n",
       "1      Renault  \n",
       "2       Toyota  \n",
       "3        Honda  \n",
       "4   Volkswagen  "
      ]
     },
     "execution_count": 13,
     "metadata": {},
     "output_type": "execute_result"
    }
   ],
   "source": [
    "df.head()"
   ]
  },
  {
   "cell_type": "code",
   "execution_count": 14,
   "id": "8a1fc61c-f47d-428f-a10b-6d9b6ea6ed35",
   "metadata": {},
   "outputs": [
    {
     "data": {
      "text/plain": [
       "2821    10 Lakh\n",
       "Name: car_prices_in_rupee, dtype: object"
      ]
     },
     "execution_count": 14,
     "metadata": {},
     "output_type": "execute_result"
    }
   ],
   "source": [
    "df[\"car_prices_in_rupee\"].sample()"
   ]
  },
  {
   "cell_type": "markdown",
   "id": "b3d01a57-8f1a-4685-b3e5-81f1f1900dfa",
   "metadata": {},
   "source": [
    "# car_prices_in_rupee"
   ]
  },
  {
   "cell_type": "code",
   "execution_count": 15,
   "id": "bc965a87-4db9-41b3-a604-9ab1f29c8437",
   "metadata": {},
   "outputs": [],
   "source": [
    "df[\"car_prices_in_rupee\"] = df[\"car_prices_in_rupee\"].str.replace(\",\",\"\")"
   ]
  },
  {
   "cell_type": "code",
   "execution_count": 16,
   "id": "c803d007-de8f-4e15-baf8-573d0ba80937",
   "metadata": {},
   "outputs": [],
   "source": [
    "def rupee_change(x):\n",
    "    try:\n",
    "        p = x.split(\" \")\n",
    "        if p[1] == \"Lakh\":\n",
    "            return float(p[0])*100000\n",
    "        elif p[1] == \"crore\":\n",
    "            return float(p[0])*10000000\n",
    "    except:\n",
    "        return x"
   ]
  },
  {
   "cell_type": "code",
   "execution_count": 17,
   "id": "f4486392-bb8d-4daf-9b2c-1496fae954a8",
   "metadata": {},
   "outputs": [],
   "source": [
    "df[\"car_prices_in_rupee\"] = df[\"car_prices_in_rupee\"].apply(rupee_change)"
   ]
  },
  {
   "cell_type": "code",
   "execution_count": 18,
   "id": "1b929458-3e35-48a3-a9bf-bc8d2b3d856b",
   "metadata": {},
   "outputs": [
    {
     "data": {
      "text/html": [
       "<div>\n",
       "<style scoped>\n",
       "    .dataframe tbody tr th:only-of-type {\n",
       "        vertical-align: middle;\n",
       "    }\n",
       "\n",
       "    .dataframe tbody tr th {\n",
       "        vertical-align: top;\n",
       "    }\n",
       "\n",
       "    .dataframe thead th {\n",
       "        text-align: right;\n",
       "    }\n",
       "</style>\n",
       "<table border=\"1\" class=\"dataframe\">\n",
       "  <thead>\n",
       "    <tr style=\"text-align: right;\">\n",
       "      <th></th>\n",
       "      <th>car_name</th>\n",
       "      <th>car_prices_in_rupee</th>\n",
       "      <th>kms_driven</th>\n",
       "      <th>fuel_type</th>\n",
       "      <th>transmission</th>\n",
       "      <th>ownership</th>\n",
       "      <th>manufacture</th>\n",
       "      <th>engine</th>\n",
       "      <th>Seats</th>\n",
       "      <th>company_name</th>\n",
       "    </tr>\n",
       "  </thead>\n",
       "  <tbody>\n",
       "    <tr>\n",
       "      <th>0</th>\n",
       "      <td>Compass 2.0 Longitude Option BSIV</td>\n",
       "      <td>1003000.0</td>\n",
       "      <td>86,226 kms</td>\n",
       "      <td>Diesel</td>\n",
       "      <td>Manual</td>\n",
       "      <td>1st Owner</td>\n",
       "      <td>2017</td>\n",
       "      <td>1956 cc</td>\n",
       "      <td>5 Seats</td>\n",
       "      <td>Jeep</td>\n",
       "    </tr>\n",
       "    <tr>\n",
       "      <th>1</th>\n",
       "      <td>Duster RXZ Turbo CVT</td>\n",
       "      <td>1283000.0</td>\n",
       "      <td>13,248 kms</td>\n",
       "      <td>Petrol</td>\n",
       "      <td>Automatic</td>\n",
       "      <td>1st Owner</td>\n",
       "      <td>2021</td>\n",
       "      <td>1330 cc</td>\n",
       "      <td>5 Seats</td>\n",
       "      <td>Renault</td>\n",
       "    </tr>\n",
       "    <tr>\n",
       "      <th>2</th>\n",
       "      <td>Camry 2.5 G</td>\n",
       "      <td>1640000.0</td>\n",
       "      <td>60,343 kms</td>\n",
       "      <td>Petrol</td>\n",
       "      <td>Automatic</td>\n",
       "      <td>1st Owner</td>\n",
       "      <td>2016</td>\n",
       "      <td>2494 cc</td>\n",
       "      <td>5 Seats</td>\n",
       "      <td>Toyota</td>\n",
       "    </tr>\n",
       "    <tr>\n",
       "      <th>3</th>\n",
       "      <td>Jazz VX CVT</td>\n",
       "      <td>777000.0</td>\n",
       "      <td>26,696 kms</td>\n",
       "      <td>Petrol</td>\n",
       "      <td>Automatic</td>\n",
       "      <td>1st Owner</td>\n",
       "      <td>2018</td>\n",
       "      <td>1199 cc</td>\n",
       "      <td>5 Seats</td>\n",
       "      <td>Honda</td>\n",
       "    </tr>\n",
       "    <tr>\n",
       "      <th>4</th>\n",
       "      <td>Polo 1.2 MPI Highline</td>\n",
       "      <td>515000.0</td>\n",
       "      <td>69,414 kms</td>\n",
       "      <td>Petrol</td>\n",
       "      <td>Manual</td>\n",
       "      <td>1st Owner</td>\n",
       "      <td>2016</td>\n",
       "      <td>1199 cc</td>\n",
       "      <td>5 Seats</td>\n",
       "      <td>Volkswagen</td>\n",
       "    </tr>\n",
       "    <tr>\n",
       "      <th>...</th>\n",
       "      <td>...</td>\n",
       "      <td>...</td>\n",
       "      <td>...</td>\n",
       "      <td>...</td>\n",
       "      <td>...</td>\n",
       "      <td>...</td>\n",
       "      <td>...</td>\n",
       "      <td>...</td>\n",
       "      <td>...</td>\n",
       "      <td>...</td>\n",
       "    </tr>\n",
       "    <tr>\n",
       "      <th>5507</th>\n",
       "      <td>X1 sDrive 20d xLine</td>\n",
       "      <td>2890000.0</td>\n",
       "      <td>45,000 kms</td>\n",
       "      <td>Diesel</td>\n",
       "      <td>Automatic</td>\n",
       "      <td>1st Owner</td>\n",
       "      <td>2018</td>\n",
       "      <td>2995 cc</td>\n",
       "      <td>7 Seats</td>\n",
       "      <td>BMW</td>\n",
       "    </tr>\n",
       "    <tr>\n",
       "      <th>5508</th>\n",
       "      <td>M Series M4 Coupe</td>\n",
       "      <td>6490000.0</td>\n",
       "      <td>29,000 kms</td>\n",
       "      <td>Petrol</td>\n",
       "      <td>Automatic</td>\n",
       "      <td>2nd Owner</td>\n",
       "      <td>2015</td>\n",
       "      <td>1968 cc</td>\n",
       "      <td>5 Seats</td>\n",
       "      <td>BMW</td>\n",
       "    </tr>\n",
       "    <tr>\n",
       "      <th>5509</th>\n",
       "      <td>XF 2.2 Litre Luxury</td>\n",
       "      <td>1375000.0</td>\n",
       "      <td>90,000 kms</td>\n",
       "      <td>Diesel</td>\n",
       "      <td>Automatic</td>\n",
       "      <td>2nd Owner</td>\n",
       "      <td>2013</td>\n",
       "      <td>2755 cc</td>\n",
       "      <td>5 Seats</td>\n",
       "      <td>Jaguar</td>\n",
       "    </tr>\n",
       "    <tr>\n",
       "      <th>5510</th>\n",
       "      <td>7 Series 730Ld</td>\n",
       "      <td>2990000.0</td>\n",
       "      <td>79,000 kms</td>\n",
       "      <td>Diesel</td>\n",
       "      <td>Automatic</td>\n",
       "      <td>3rd Owner</td>\n",
       "      <td>2015</td>\n",
       "      <td>2967 cc</td>\n",
       "      <td>6 Seats</td>\n",
       "      <td>BMW</td>\n",
       "    </tr>\n",
       "    <tr>\n",
       "      <th>5511</th>\n",
       "      <td>5 Series 520d M Sport</td>\n",
       "      <td>3190000.0</td>\n",
       "      <td>42,000 kms</td>\n",
       "      <td>Diesel</td>\n",
       "      <td>Automatic</td>\n",
       "      <td>2nd Owner</td>\n",
       "      <td>2017</td>\n",
       "      <td>1991 cc</td>\n",
       "      <td>5 Seats</td>\n",
       "      <td>BMW</td>\n",
       "    </tr>\n",
       "  </tbody>\n",
       "</table>\n",
       "<p>5512 rows × 10 columns</p>\n",
       "</div>"
      ],
      "text/plain": [
       "                               car_name car_prices_in_rupee  kms_driven  \\\n",
       "0     Compass 2.0 Longitude Option BSIV           1003000.0  86,226 kms   \n",
       "1                  Duster RXZ Turbo CVT           1283000.0  13,248 kms   \n",
       "2                           Camry 2.5 G           1640000.0  60,343 kms   \n",
       "3                           Jazz VX CVT            777000.0  26,696 kms   \n",
       "4                 Polo 1.2 MPI Highline            515000.0  69,414 kms   \n",
       "...                                 ...                 ...         ...   \n",
       "5507                X1 sDrive 20d xLine           2890000.0  45,000 kms   \n",
       "5508                  M Series M4 Coupe           6490000.0  29,000 kms   \n",
       "5509                XF 2.2 Litre Luxury           1375000.0  90,000 kms   \n",
       "5510                     7 Series 730Ld           2990000.0  79,000 kms   \n",
       "5511              5 Series 520d M Sport           3190000.0  42,000 kms   \n",
       "\n",
       "     fuel_type transmission  ownership  manufacture   engine    Seats  \\\n",
       "0       Diesel       Manual  1st Owner         2017  1956 cc  5 Seats   \n",
       "1       Petrol    Automatic  1st Owner         2021  1330 cc  5 Seats   \n",
       "2       Petrol    Automatic  1st Owner         2016  2494 cc  5 Seats   \n",
       "3       Petrol    Automatic  1st Owner         2018  1199 cc  5 Seats   \n",
       "4       Petrol       Manual  1st Owner         2016  1199 cc  5 Seats   \n",
       "...        ...          ...        ...          ...      ...      ...   \n",
       "5507    Diesel    Automatic  1st Owner         2018  2995 cc  7 Seats   \n",
       "5508    Petrol    Automatic  2nd Owner         2015  1968 cc  5 Seats   \n",
       "5509    Diesel    Automatic  2nd Owner         2013  2755 cc  5 Seats   \n",
       "5510    Diesel    Automatic  3rd Owner         2015  2967 cc  6 Seats   \n",
       "5511    Diesel    Automatic  2nd Owner         2017  1991 cc  5 Seats   \n",
       "\n",
       "     company_name  \n",
       "0            Jeep  \n",
       "1         Renault  \n",
       "2          Toyota  \n",
       "3           Honda  \n",
       "4      Volkswagen  \n",
       "...           ...  \n",
       "5507          BMW  \n",
       "5508          BMW  \n",
       "5509       Jaguar  \n",
       "5510          BMW  \n",
       "5511          BMW  \n",
       "\n",
       "[5512 rows x 10 columns]"
      ]
     },
     "execution_count": 18,
     "metadata": {},
     "output_type": "execute_result"
    }
   ],
   "source": [
    "df"
   ]
  },
  {
   "cell_type": "code",
   "execution_count": 19,
   "id": "dd68f1ab-7852-4b50-bfe0-1d6d1329c286",
   "metadata": {},
   "outputs": [],
   "source": [
    "df[\"car_prices_in_rupee\"]= df[\"car_prices_in_rupee\"].astype(\"float\")"
   ]
  },
  {
   "cell_type": "code",
   "execution_count": 20,
   "id": "02507f17-1e1e-42c1-809e-b2a4f6eff33a",
   "metadata": {},
   "outputs": [
    {
     "data": {
      "text/html": [
       "<div>\n",
       "<style scoped>\n",
       "    .dataframe tbody tr th:only-of-type {\n",
       "        vertical-align: middle;\n",
       "    }\n",
       "\n",
       "    .dataframe tbody tr th {\n",
       "        vertical-align: top;\n",
       "    }\n",
       "\n",
       "    .dataframe thead th {\n",
       "        text-align: right;\n",
       "    }\n",
       "</style>\n",
       "<table border=\"1\" class=\"dataframe\">\n",
       "  <thead>\n",
       "    <tr style=\"text-align: right;\">\n",
       "      <th></th>\n",
       "      <th>car_name</th>\n",
       "      <th>car_prices_in_rupee</th>\n",
       "      <th>kms_driven</th>\n",
       "      <th>fuel_type</th>\n",
       "      <th>transmission</th>\n",
       "      <th>ownership</th>\n",
       "      <th>manufacture</th>\n",
       "      <th>engine</th>\n",
       "      <th>Seats</th>\n",
       "      <th>company_name</th>\n",
       "    </tr>\n",
       "  </thead>\n",
       "  <tbody>\n",
       "    <tr>\n",
       "      <th>0</th>\n",
       "      <td>Compass 2.0 Longitude Option BSIV</td>\n",
       "      <td>1003000.0</td>\n",
       "      <td>86,226 kms</td>\n",
       "      <td>Diesel</td>\n",
       "      <td>Manual</td>\n",
       "      <td>1st Owner</td>\n",
       "      <td>2017</td>\n",
       "      <td>1956 cc</td>\n",
       "      <td>5 Seats</td>\n",
       "      <td>Jeep</td>\n",
       "    </tr>\n",
       "  </tbody>\n",
       "</table>\n",
       "</div>"
      ],
      "text/plain": [
       "                            car_name  car_prices_in_rupee  kms_driven  \\\n",
       "0  Compass 2.0 Longitude Option BSIV            1003000.0  86,226 kms   \n",
       "\n",
       "  fuel_type transmission  ownership  manufacture   engine    Seats  \\\n",
       "0    Diesel       Manual  1st Owner         2017  1956 cc  5 Seats   \n",
       "\n",
       "  company_name  \n",
       "0         Jeep  "
      ]
     },
     "execution_count": 20,
     "metadata": {},
     "output_type": "execute_result"
    }
   ],
   "source": [
    "df.head(1)"
   ]
  },
  {
   "cell_type": "markdown",
   "id": "6f6e5699-277e-4783-ae18-5c52b0577b71",
   "metadata": {},
   "source": [
    "# kms_driven"
   ]
  },
  {
   "cell_type": "code",
   "execution_count": 21,
   "id": "64fa3fbb-8359-4fe4-90b7-2985b85d47dc",
   "metadata": {},
   "outputs": [],
   "source": [
    "df[\"kms_driven\"]=df[\"kms_driven\"].str.replace(\",\",\"\")\n",
    "df[\"kms_driven\"]=df[\"kms_driven\"].str.replace(\"kms\",\"\")"
   ]
  },
  {
   "cell_type": "code",
   "execution_count": 22,
   "id": "9b238d75-2281-4d80-a1cf-945487809b88",
   "metadata": {},
   "outputs": [],
   "source": [
    "df[\"kms_driven\"] = df[\"kms_driven\"].astype(\"int64\")"
   ]
  },
  {
   "cell_type": "code",
   "execution_count": 23,
   "id": "315b5bee-fdce-4cbd-9177-8fda2edc24f9",
   "metadata": {},
   "outputs": [
    {
     "name": "stdout",
     "output_type": "stream",
     "text": [
      "<class 'pandas.core.frame.DataFrame'>\n",
      "RangeIndex: 5512 entries, 0 to 5511\n",
      "Data columns (total 10 columns):\n",
      " #   Column               Non-Null Count  Dtype  \n",
      "---  ------               --------------  -----  \n",
      " 0   car_name             5512 non-null   object \n",
      " 1   car_prices_in_rupee  5456 non-null   float64\n",
      " 2   kms_driven           5512 non-null   int64  \n",
      " 3   fuel_type            5512 non-null   object \n",
      " 4   transmission         5512 non-null   object \n",
      " 5   ownership            5512 non-null   object \n",
      " 6   manufacture          5512 non-null   int64  \n",
      " 7   engine               5512 non-null   object \n",
      " 8   Seats                5512 non-null   object \n",
      " 9   company_name         5512 non-null   object \n",
      "dtypes: float64(1), int64(2), object(7)\n",
      "memory usage: 430.8+ KB\n"
     ]
    }
   ],
   "source": [
    "df.info()"
   ]
  },
  {
   "cell_type": "markdown",
   "id": "0e6235bc-1be6-4051-86b2-454dbc52fd1c",
   "metadata": {},
   "source": [
    "# engine"
   ]
  },
  {
   "cell_type": "code",
   "execution_count": 24,
   "id": "2bfe7ef1-18d4-49a8-9472-a1f7a668479e",
   "metadata": {},
   "outputs": [],
   "source": [
    "df[\"engine\"]=df[\"engine\"].str.replace(\" cc\",\"\")"
   ]
  },
  {
   "cell_type": "code",
   "execution_count": 25,
   "id": "f3de4eb6-f540-41d2-b950-a5e2fbcfb22d",
   "metadata": {},
   "outputs": [
    {
     "data": {
      "text/html": [
       "<div>\n",
       "<style scoped>\n",
       "    .dataframe tbody tr th:only-of-type {\n",
       "        vertical-align: middle;\n",
       "    }\n",
       "\n",
       "    .dataframe tbody tr th {\n",
       "        vertical-align: top;\n",
       "    }\n",
       "\n",
       "    .dataframe thead th {\n",
       "        text-align: right;\n",
       "    }\n",
       "</style>\n",
       "<table border=\"1\" class=\"dataframe\">\n",
       "  <thead>\n",
       "    <tr style=\"text-align: right;\">\n",
       "      <th></th>\n",
       "      <th>car_name</th>\n",
       "      <th>car_prices_in_rupee</th>\n",
       "      <th>kms_driven</th>\n",
       "      <th>fuel_type</th>\n",
       "      <th>transmission</th>\n",
       "      <th>ownership</th>\n",
       "      <th>manufacture</th>\n",
       "      <th>engine</th>\n",
       "      <th>Seats</th>\n",
       "      <th>company_name</th>\n",
       "    </tr>\n",
       "  </thead>\n",
       "  <tbody>\n",
       "    <tr>\n",
       "      <th>0</th>\n",
       "      <td>Compass 2.0 Longitude Option BSIV</td>\n",
       "      <td>1003000.0</td>\n",
       "      <td>86226</td>\n",
       "      <td>Diesel</td>\n",
       "      <td>Manual</td>\n",
       "      <td>1st Owner</td>\n",
       "      <td>2017</td>\n",
       "      <td>1956</td>\n",
       "      <td>5 Seats</td>\n",
       "      <td>Jeep</td>\n",
       "    </tr>\n",
       "  </tbody>\n",
       "</table>\n",
       "</div>"
      ],
      "text/plain": [
       "                            car_name  car_prices_in_rupee  kms_driven  \\\n",
       "0  Compass 2.0 Longitude Option BSIV            1003000.0       86226   \n",
       "\n",
       "  fuel_type transmission  ownership  manufacture engine    Seats company_name  \n",
       "0    Diesel       Manual  1st Owner         2017   1956  5 Seats         Jeep  "
      ]
     },
     "execution_count": 25,
     "metadata": {},
     "output_type": "execute_result"
    }
   ],
   "source": [
    "df.head(1)"
   ]
  },
  {
   "cell_type": "markdown",
   "id": "77626624-620c-4601-acf3-4c51c2d3836f",
   "metadata": {},
   "source": [
    "# Seats"
   ]
  },
  {
   "cell_type": "code",
   "execution_count": 26,
   "id": "1dd601a4-8a2c-4145-96be-712d0de54721",
   "metadata": {},
   "outputs": [],
   "source": [
    "df[\"Seats\"]=df[\"Seats\"].str.replace(\" Seats\",\"\")"
   ]
  },
  {
   "cell_type": "code",
   "execution_count": 27,
   "id": "42aa3cb6-5fc3-44e5-86ee-efb95d0d1de4",
   "metadata": {},
   "outputs": [],
   "source": [
    "df[\"Seats\"]=df[\"Seats\"].astype(\"int64\")"
   ]
  },
  {
   "cell_type": "code",
   "execution_count": 28,
   "id": "058acd65-cd21-426e-94c9-6ed09f9329ce",
   "metadata": {},
   "outputs": [
    {
     "name": "stdout",
     "output_type": "stream",
     "text": [
      "<class 'pandas.core.frame.DataFrame'>\n",
      "RangeIndex: 5512 entries, 0 to 5511\n",
      "Data columns (total 10 columns):\n",
      " #   Column               Non-Null Count  Dtype  \n",
      "---  ------               --------------  -----  \n",
      " 0   car_name             5512 non-null   object \n",
      " 1   car_prices_in_rupee  5456 non-null   float64\n",
      " 2   kms_driven           5512 non-null   int64  \n",
      " 3   fuel_type            5512 non-null   object \n",
      " 4   transmission         5512 non-null   object \n",
      " 5   ownership            5512 non-null   object \n",
      " 6   manufacture          5512 non-null   int64  \n",
      " 7   engine               5512 non-null   object \n",
      " 8   Seats                5512 non-null   int64  \n",
      " 9   company_name         5512 non-null   object \n",
      "dtypes: float64(1), int64(3), object(6)\n",
      "memory usage: 430.8+ KB\n"
     ]
    }
   ],
   "source": [
    "df.info()"
   ]
  },
  {
   "cell_type": "code",
   "execution_count": 29,
   "id": "847624eb-16ae-4c7d-a3d3-561d555d9d02",
   "metadata": {},
   "outputs": [
    {
     "data": {
      "text/html": [
       "<div>\n",
       "<style scoped>\n",
       "    .dataframe tbody tr th:only-of-type {\n",
       "        vertical-align: middle;\n",
       "    }\n",
       "\n",
       "    .dataframe tbody tr th {\n",
       "        vertical-align: top;\n",
       "    }\n",
       "\n",
       "    .dataframe thead th {\n",
       "        text-align: right;\n",
       "    }\n",
       "</style>\n",
       "<table border=\"1\" class=\"dataframe\">\n",
       "  <thead>\n",
       "    <tr style=\"text-align: right;\">\n",
       "      <th></th>\n",
       "      <th>car_name</th>\n",
       "      <th>car_prices_in_rupee</th>\n",
       "      <th>kms_driven</th>\n",
       "      <th>fuel_type</th>\n",
       "      <th>transmission</th>\n",
       "      <th>ownership</th>\n",
       "      <th>manufacture</th>\n",
       "      <th>engine</th>\n",
       "      <th>Seats</th>\n",
       "      <th>company_name</th>\n",
       "    </tr>\n",
       "  </thead>\n",
       "  <tbody>\n",
       "    <tr>\n",
       "      <th>0</th>\n",
       "      <td>Compass 2.0 Longitude Option BSIV</td>\n",
       "      <td>1003000.0</td>\n",
       "      <td>86226</td>\n",
       "      <td>Diesel</td>\n",
       "      <td>Manual</td>\n",
       "      <td>1st Owner</td>\n",
       "      <td>2017</td>\n",
       "      <td>1956</td>\n",
       "      <td>5</td>\n",
       "      <td>Jeep</td>\n",
       "    </tr>\n",
       "    <tr>\n",
       "      <th>1</th>\n",
       "      <td>Duster RXZ Turbo CVT</td>\n",
       "      <td>1283000.0</td>\n",
       "      <td>13248</td>\n",
       "      <td>Petrol</td>\n",
       "      <td>Automatic</td>\n",
       "      <td>1st Owner</td>\n",
       "      <td>2021</td>\n",
       "      <td>1330</td>\n",
       "      <td>5</td>\n",
       "      <td>Renault</td>\n",
       "    </tr>\n",
       "    <tr>\n",
       "      <th>2</th>\n",
       "      <td>Camry 2.5 G</td>\n",
       "      <td>1640000.0</td>\n",
       "      <td>60343</td>\n",
       "      <td>Petrol</td>\n",
       "      <td>Automatic</td>\n",
       "      <td>1st Owner</td>\n",
       "      <td>2016</td>\n",
       "      <td>2494</td>\n",
       "      <td>5</td>\n",
       "      <td>Toyota</td>\n",
       "    </tr>\n",
       "  </tbody>\n",
       "</table>\n",
       "</div>"
      ],
      "text/plain": [
       "                            car_name  car_prices_in_rupee  kms_driven  \\\n",
       "0  Compass 2.0 Longitude Option BSIV            1003000.0       86226   \n",
       "1               Duster RXZ Turbo CVT            1283000.0       13248   \n",
       "2                        Camry 2.5 G            1640000.0       60343   \n",
       "\n",
       "  fuel_type transmission  ownership  manufacture engine  Seats company_name  \n",
       "0    Diesel       Manual  1st Owner         2017   1956      5         Jeep  \n",
       "1    Petrol    Automatic  1st Owner         2021   1330      5      Renault  \n",
       "2    Petrol    Automatic  1st Owner         2016   2494      5       Toyota  "
      ]
     },
     "execution_count": 29,
     "metadata": {},
     "output_type": "execute_result"
    }
   ],
   "source": [
    "df.head(3)"
   ]
  },
  {
   "cell_type": "code",
   "execution_count": 30,
   "id": "0697b83e-bb39-4254-aa86-85cf848f014e",
   "metadata": {},
   "outputs": [],
   "source": [
    "from sklearn.preprocessing import LabelEncoder, StandardScaler"
   ]
  },
  {
   "cell_type": "markdown",
   "id": "ae14d8b7-174d-414f-a0d2-6e9d6d24dd79",
   "metadata": {},
   "source": [
    "# car_name"
   ]
  },
  {
   "cell_type": "code",
   "execution_count": 31,
   "id": "c91bf806-4e46-43a3-9d72-b48ff0ab3113",
   "metadata": {},
   "outputs": [],
   "source": [
    "car_name_en = LabelEncoder()\n",
    "df[\"car_name\"] = car_name_en.fit_transform(df[\"car_name\"])"
   ]
  },
  {
   "cell_type": "code",
   "execution_count": 32,
   "id": "4f243095-7a92-45ee-8fb3-5fa551c6e4c1",
   "metadata": {},
   "outputs": [
    {
     "data": {
      "text/html": [
       "<div>\n",
       "<style scoped>\n",
       "    .dataframe tbody tr th:only-of-type {\n",
       "        vertical-align: middle;\n",
       "    }\n",
       "\n",
       "    .dataframe tbody tr th {\n",
       "        vertical-align: top;\n",
       "    }\n",
       "\n",
       "    .dataframe thead th {\n",
       "        text-align: right;\n",
       "    }\n",
       "</style>\n",
       "<table border=\"1\" class=\"dataframe\">\n",
       "  <thead>\n",
       "    <tr style=\"text-align: right;\">\n",
       "      <th></th>\n",
       "      <th>car_name</th>\n",
       "      <th>car_prices_in_rupee</th>\n",
       "      <th>kms_driven</th>\n",
       "      <th>fuel_type</th>\n",
       "      <th>transmission</th>\n",
       "      <th>ownership</th>\n",
       "      <th>manufacture</th>\n",
       "      <th>engine</th>\n",
       "      <th>Seats</th>\n",
       "      <th>company_name</th>\n",
       "    </tr>\n",
       "  </thead>\n",
       "  <tbody>\n",
       "    <tr>\n",
       "      <th>0</th>\n",
       "      <td>426</td>\n",
       "      <td>1003000.0</td>\n",
       "      <td>86226</td>\n",
       "      <td>Diesel</td>\n",
       "      <td>Manual</td>\n",
       "      <td>1st Owner</td>\n",
       "      <td>2017</td>\n",
       "      <td>1956</td>\n",
       "      <td>5</td>\n",
       "      <td>Jeep</td>\n",
       "    </tr>\n",
       "    <tr>\n",
       "      <th>1</th>\n",
       "      <td>509</td>\n",
       "      <td>1283000.0</td>\n",
       "      <td>13248</td>\n",
       "      <td>Petrol</td>\n",
       "      <td>Automatic</td>\n",
       "      <td>1st Owner</td>\n",
       "      <td>2021</td>\n",
       "      <td>1330</td>\n",
       "      <td>5</td>\n",
       "      <td>Renault</td>\n",
       "    </tr>\n",
       "    <tr>\n",
       "      <th>2</th>\n",
       "      <td>290</td>\n",
       "      <td>1640000.0</td>\n",
       "      <td>60343</td>\n",
       "      <td>Petrol</td>\n",
       "      <td>Automatic</td>\n",
       "      <td>1st Owner</td>\n",
       "      <td>2016</td>\n",
       "      <td>2494</td>\n",
       "      <td>5</td>\n",
       "      <td>Toyota</td>\n",
       "    </tr>\n",
       "  </tbody>\n",
       "</table>\n",
       "</div>"
      ],
      "text/plain": [
       "   car_name  car_prices_in_rupee  kms_driven fuel_type transmission  \\\n",
       "0       426            1003000.0       86226    Diesel       Manual   \n",
       "1       509            1283000.0       13248    Petrol    Automatic   \n",
       "2       290            1640000.0       60343    Petrol    Automatic   \n",
       "\n",
       "   ownership  manufacture engine  Seats company_name  \n",
       "0  1st Owner         2017   1956      5         Jeep  \n",
       "1  1st Owner         2021   1330      5      Renault  \n",
       "2  1st Owner         2016   2494      5       Toyota  "
      ]
     },
     "execution_count": 32,
     "metadata": {},
     "output_type": "execute_result"
    }
   ],
   "source": [
    "df.head(3)"
   ]
  },
  {
   "cell_type": "markdown",
   "id": "c55cac88-f9d0-47e2-80d9-e37b733d4ba1",
   "metadata": {},
   "source": [
    "# fuel_type"
   ]
  },
  {
   "cell_type": "code",
   "execution_count": 33,
   "id": "8320fe2c-1c5e-495b-882f-3184265b3ff1",
   "metadata": {},
   "outputs": [],
   "source": [
    "fuel_type_en = LabelEncoder()\n",
    "df[\"fuel_type\"] = fuel_type_en.fit_transform(df[\"car_name\"])"
   ]
  },
  {
   "cell_type": "markdown",
   "id": "c6aa4dc2-ccbe-49a9-b7b0-e57d89d737de",
   "metadata": {},
   "source": [
    "# transmission"
   ]
  },
  {
   "cell_type": "code",
   "execution_count": 34,
   "id": "eab236cf-2f72-4789-9ec7-2d3972705274",
   "metadata": {},
   "outputs": [],
   "source": [
    "transmission_en = LabelEncoder()\n",
    "df[\"transmission\"] = transmission_en.fit_transform(df[\"transmission\"])"
   ]
  },
  {
   "cell_type": "markdown",
   "id": "6f433e9b-b76d-4c6f-8ccf-a3613b79a208",
   "metadata": {},
   "source": [
    "# OWNERSHIP"
   ]
  },
  {
   "cell_type": "code",
   "execution_count": 35,
   "id": "4976d98a-0527-4c75-aec0-1dbd504883c9",
   "metadata": {},
   "outputs": [],
   "source": [
    "ownership_en = LabelEncoder()\n",
    "df[\"ownership\"] =ownership_en.fit_transform(df[\"ownership\"])"
   ]
  },
  {
   "cell_type": "markdown",
   "id": "4fbd9106-d401-4df7-838a-e6b668b2f4e1",
   "metadata": {},
   "source": [
    "# company_name"
   ]
  },
  {
   "cell_type": "code",
   "execution_count": 36,
   "id": "3b034d8f-e542-4358-81b0-94d7339d16fe",
   "metadata": {},
   "outputs": [],
   "source": [
    "company_name_en = LabelEncoder()\n",
    "df[\"company_name\"] =company_name_en.fit_transform(df[\"company_name\"])"
   ]
  },
  {
   "cell_type": "code",
   "execution_count": 37,
   "id": "e8d60896-120e-4409-bf88-dc824010b6f1",
   "metadata": {},
   "outputs": [
    {
     "data": {
      "text/html": [
       "<div>\n",
       "<style scoped>\n",
       "    .dataframe tbody tr th:only-of-type {\n",
       "        vertical-align: middle;\n",
       "    }\n",
       "\n",
       "    .dataframe tbody tr th {\n",
       "        vertical-align: top;\n",
       "    }\n",
       "\n",
       "    .dataframe thead th {\n",
       "        text-align: right;\n",
       "    }\n",
       "</style>\n",
       "<table border=\"1\" class=\"dataframe\">\n",
       "  <thead>\n",
       "    <tr style=\"text-align: right;\">\n",
       "      <th></th>\n",
       "      <th>car_name</th>\n",
       "      <th>car_prices_in_rupee</th>\n",
       "      <th>kms_driven</th>\n",
       "      <th>fuel_type</th>\n",
       "      <th>transmission</th>\n",
       "      <th>ownership</th>\n",
       "      <th>manufacture</th>\n",
       "      <th>engine</th>\n",
       "      <th>Seats</th>\n",
       "      <th>company_name</th>\n",
       "    </tr>\n",
       "  </thead>\n",
       "  <tbody>\n",
       "    <tr>\n",
       "      <th>0</th>\n",
       "      <td>426</td>\n",
       "      <td>1003000.0</td>\n",
       "      <td>86226</td>\n",
       "      <td>426</td>\n",
       "      <td>1</td>\n",
       "      <td>1</td>\n",
       "      <td>2017</td>\n",
       "      <td>1956</td>\n",
       "      <td>5</td>\n",
       "      <td>12</td>\n",
       "    </tr>\n",
       "    <tr>\n",
       "      <th>1</th>\n",
       "      <td>509</td>\n",
       "      <td>1283000.0</td>\n",
       "      <td>13248</td>\n",
       "      <td>509</td>\n",
       "      <td>0</td>\n",
       "      <td>1</td>\n",
       "      <td>2021</td>\n",
       "      <td>1330</td>\n",
       "      <td>5</td>\n",
       "      <td>26</td>\n",
       "    </tr>\n",
       "    <tr>\n",
       "      <th>2</th>\n",
       "      <td>290</td>\n",
       "      <td>1640000.0</td>\n",
       "      <td>60343</td>\n",
       "      <td>290</td>\n",
       "      <td>0</td>\n",
       "      <td>1</td>\n",
       "      <td>2016</td>\n",
       "      <td>2494</td>\n",
       "      <td>5</td>\n",
       "      <td>29</td>\n",
       "    </tr>\n",
       "  </tbody>\n",
       "</table>\n",
       "</div>"
      ],
      "text/plain": [
       "   car_name  car_prices_in_rupee  kms_driven  fuel_type  transmission  \\\n",
       "0       426            1003000.0       86226        426             1   \n",
       "1       509            1283000.0       13248        509             0   \n",
       "2       290            1640000.0       60343        290             0   \n",
       "\n",
       "   ownership  manufacture engine  Seats  company_name  \n",
       "0          1         2017   1956      5            12  \n",
       "1          1         2021   1330      5            26  \n",
       "2          1         2016   2494      5            29  "
      ]
     },
     "execution_count": 37,
     "metadata": {},
     "output_type": "execute_result"
    }
   ],
   "source": [
    "df.head(3)"
   ]
  },
  {
   "cell_type": "code",
   "execution_count": 38,
   "id": "e4dd4171-76c5-4236-9a57-a1c79e67afaf",
   "metadata": {},
   "outputs": [
    {
     "data": {
      "image/png": "[encoded data removed]",
      "text/plain": [
       "<Figure size 300x200 with 1 Axes>"
      ]
     },
     "metadata": {},
     "output_type": "display_data"
    }
   ],
   "source": [
    "plt.figure(figsize = (3,2))\n",
    "sns.boxplot(x=\"car_name\", data= df)\n",
    "plt.show()"
   ]
  },
  {
   "cell_type": "code",
   "execution_count": 39,
   "id": "3d3c68a1-b0a6-46a9-9678-e995e66c6664",
   "metadata": {},
   "outputs": [
    {
     "data": {
      "image/png": "[encoded data removed]",
      "text/plain": [
       "<Figure size 300x200 with 1 Axes>"
      ]
     },
     "metadata": {},
     "output_type": "display_data"
    }
   ],
   "source": [
    "plt.figure(figsize = (3,2))\n",
    "sns.boxplot(x=\"car_prices_in_rupee\", data = df )\n",
    "plt.show()"
   ]
  },
  {
   "cell_type": "code",
   "execution_count": 40,
   "id": "cd37056f-7a18-4359-a29c-846c7209939c",
   "metadata": {},
   "outputs": [
    {
     "data": {
      "image/png": "[encoded data removed]",
      "text/plain": [
       "<Figure size 300x200 with 1 Axes>"
      ]
     },
     "metadata": {},
     "output_type": "display_data"
    }
   ],
   "source": [
    "plt.figure(figsize = (3,2))\n",
    "sns.boxplot(x= \"kms_driven\", data = df )\n",
    "plt.show()"
   ]
  },
  {
   "cell_type": "code",
   "execution_count": 41,
   "id": "adc9e506-19a2-4b41-810a-6e55c51619a5",
   "metadata": {},
   "outputs": [
    {
     "data": {
      "text/plain": [
       "(5512,)"
      ]
     },
     "execution_count": 41,
     "metadata": {},
     "output_type": "execute_result"
    }
   ],
   "source": [
    "df[\"kms_driven\"].shape"
   ]
  },
  {
   "cell_type": "code",
   "execution_count": 42,
   "id": "b147d2f3-a59f-4900-a2f6-6be69e975786",
   "metadata": {},
   "outputs": [
    {
     "data": {
      "image/png": "[encoded data removed]",
      "text/plain": [
       "<Figure size 300x200 with 1 Axes>"
      ]
     },
     "metadata": {},
     "output_type": "display_data"
    }
   ],
   "source": [
    "plt.figure(figsize = (3,2))\n",
    "sns.boxplot(x= \"fuel_type\", data = df )\n",
    "plt.show()"
   ]
  },
  {
   "cell_type": "code",
   "execution_count": 43,
   "id": "3cbf4e78-e656-426f-8a70-07f31674f1db",
   "metadata": {},
   "outputs": [
    {
     "data": {
      "image/png": "[encoded data removed]",
      "text/plain": [
       "<Figure size 300x200 with 1 Axes>"
      ]
     },
     "metadata": {},
     "output_type": "display_data"
    }
   ],
   "source": [
    "plt.figure(figsize = (3,2))\n",
    "sns.boxplot(x= \"fuel_type\", data = df )\n",
    "plt.show()"
   ]
  },
  {
   "cell_type": "markdown",
   "id": "ad9bab0a-fd9a-455d-80a7-30ce0dda5109",
   "metadata": {},
   "source": [
    "# removing some outliers from kms_driven"
   ]
  },
  {
   "cell_type": "code",
   "execution_count": 44,
   "id": "840e9665-8603-44c0-98df-50b850f1dd27",
   "metadata": {},
   "outputs": [],
   "source": [
    "q1 = np.quantile(df[\"kms_driven\"],0.25)\n",
    "q3 = np.quantile(df[\"kms_driven\"],0.75)"
   ]
  },
  {
   "cell_type": "code",
   "execution_count": 45,
   "id": "76a7cc36-e0ba-41b7-a702-d0b383d58530",
   "metadata": {},
   "outputs": [],
   "source": [
    "iqr = q3-q1"
   ]
  },
  {
   "cell_type": "code",
   "execution_count": 46,
   "id": "71dc1a61-6bc2-4852-9493-aaea8403f591",
   "metadata": {},
   "outputs": [],
   "source": [
    "min_range = q1 - (1.5*iqr)\n",
    "max_range = q1 + (1.5*iqr)"
   ]
  },
  {
   "cell_type": "code",
   "execution_count": 47,
   "id": "121f9bfe-b3f9-443a-b5e5-4be63929aa20",
   "metadata": {},
   "outputs": [],
   "source": [
    "df= df[df[\"kms_driven\"]<=max_range]"
   ]
  },
  {
   "cell_type": "code",
   "execution_count": 48,
   "id": "7009a769-dc21-4eee-9bea-258df94d1bd3",
   "metadata": {},
   "outputs": [
    {
     "data": {
      "text/html": [
       "<div>\n",
       "<style scoped>\n",
       "    .dataframe tbody tr th:only-of-type {\n",
       "        vertical-align: middle;\n",
       "    }\n",
       "\n",
       "    .dataframe tbody tr th {\n",
       "        vertical-align: top;\n",
       "    }\n",
       "\n",
       "    .dataframe thead th {\n",
       "        text-align: right;\n",
       "    }\n",
       "</style>\n",
       "<table border=\"1\" class=\"dataframe\">\n",
       "  <thead>\n",
       "    <tr style=\"text-align: right;\">\n",
       "      <th></th>\n",
       "      <th>car_name</th>\n",
       "      <th>car_prices_in_rupee</th>\n",
       "      <th>kms_driven</th>\n",
       "      <th>fuel_type</th>\n",
       "      <th>transmission</th>\n",
       "      <th>ownership</th>\n",
       "      <th>manufacture</th>\n",
       "      <th>engine</th>\n",
       "      <th>Seats</th>\n",
       "      <th>company_name</th>\n",
       "    </tr>\n",
       "  </thead>\n",
       "  <tbody>\n",
       "    <tr>\n",
       "      <th>0</th>\n",
       "      <td>426</td>\n",
       "      <td>1003000.0</td>\n",
       "      <td>86226</td>\n",
       "      <td>426</td>\n",
       "      <td>1</td>\n",
       "      <td>1</td>\n",
       "      <td>2017</td>\n",
       "      <td>1956</td>\n",
       "      <td>5</td>\n",
       "      <td>12</td>\n",
       "    </tr>\n",
       "  </tbody>\n",
       "</table>\n",
       "</div>"
      ],
      "text/plain": [
       "   car_name  car_prices_in_rupee  kms_driven  fuel_type  transmission  \\\n",
       "0       426            1003000.0       86226        426             1   \n",
       "\n",
       "   ownership  manufacture engine  Seats  company_name  \n",
       "0          1         2017   1956      5            12  "
      ]
     },
     "execution_count": 48,
     "metadata": {},
     "output_type": "execute_result"
    }
   ],
   "source": [
    "df.head(1)"
   ]
  },
  {
   "cell_type": "code",
   "execution_count": 49,
   "id": "58bc9be1-5ba2-4075-8ac7-0bfdd76ddbad",
   "metadata": {},
   "outputs": [],
   "source": [
    "# SCALING BY STANDARD SCALAR"
   ]
  },
  {
   "cell_type": "code",
   "execution_count": 50,
   "id": "ed903183-a1d4-4878-b1c1-2d68a835b5e8",
   "metadata": {},
   "outputs": [
    {
     "data": {
      "text/html": [
       "<div>\n",
       "<style scoped>\n",
       "    .dataframe tbody tr th:only-of-type {\n",
       "        vertical-align: middle;\n",
       "    }\n",
       "\n",
       "    .dataframe tbody tr th {\n",
       "        vertical-align: top;\n",
       "    }\n",
       "\n",
       "    .dataframe thead th {\n",
       "        text-align: right;\n",
       "    }\n",
       "</style>\n",
       "<table border=\"1\" class=\"dataframe\">\n",
       "  <thead>\n",
       "    <tr style=\"text-align: right;\">\n",
       "      <th></th>\n",
       "      <th>car_name</th>\n",
       "      <th>car_prices_in_rupee</th>\n",
       "      <th>kms_driven</th>\n",
       "      <th>fuel_type</th>\n",
       "      <th>transmission</th>\n",
       "      <th>ownership</th>\n",
       "      <th>manufacture</th>\n",
       "      <th>engine</th>\n",
       "      <th>Seats</th>\n",
       "      <th>company_name</th>\n",
       "    </tr>\n",
       "  </thead>\n",
       "  <tbody>\n",
       "    <tr>\n",
       "      <th>0</th>\n",
       "      <td>-0.891890</td>\n",
       "      <td>-0.064626</td>\n",
       "      <td>1.252101</td>\n",
       "      <td>-0.891890</td>\n",
       "      <td>0.661579</td>\n",
       "      <td>-0.572809</td>\n",
       "      <td>0.300127</td>\n",
       "      <td>0.733916</td>\n",
       "      <td>-0.349508</td>\n",
       "      <td>-0.394757</td>\n",
       "    </tr>\n",
       "    <tr>\n",
       "      <th>1</th>\n",
       "      <td>-0.749951</td>\n",
       "      <td>0.132456</td>\n",
       "      <td>-1.439881</td>\n",
       "      <td>-0.749951</td>\n",
       "      <td>-1.511536</td>\n",
       "      <td>-0.572809</td>\n",
       "      <td>1.342413</td>\n",
       "      <td>-0.353952</td>\n",
       "      <td>-0.349508</td>\n",
       "      <td>1.342710</td>\n",
       "    </tr>\n",
       "    <tr>\n",
       "      <th>2</th>\n",
       "      <td>-1.124465</td>\n",
       "      <td>0.383736</td>\n",
       "      <td>0.297340</td>\n",
       "      <td>-1.124465</td>\n",
       "      <td>-1.511536</td>\n",
       "      <td>-0.572809</td>\n",
       "      <td>0.039556</td>\n",
       "      <td>1.668857</td>\n",
       "      <td>-0.349508</td>\n",
       "      <td>1.715024</td>\n",
       "    </tr>\n",
       "    <tr>\n",
       "      <th>3</th>\n",
       "      <td>-0.060776</td>\n",
       "      <td>-0.223699</td>\n",
       "      <td>-0.943817</td>\n",
       "      <td>-0.060776</td>\n",
       "      <td>-1.511536</td>\n",
       "      <td>-0.572809</td>\n",
       "      <td>0.560699</td>\n",
       "      <td>-0.581605</td>\n",
       "      <td>-0.349508</td>\n",
       "      <td>-0.891176</td>\n",
       "    </tr>\n",
       "    <tr>\n",
       "      <th>4</th>\n",
       "      <td>0.252174</td>\n",
       "      <td>-0.408111</td>\n",
       "      <td>0.631947</td>\n",
       "      <td>0.252174</td>\n",
       "      <td>0.661579</td>\n",
       "      <td>-0.572809</td>\n",
       "      <td>0.039556</td>\n",
       "      <td>-0.581605</td>\n",
       "      <td>-0.349508</td>\n",
       "      <td>1.839129</td>\n",
       "    </tr>\n",
       "  </tbody>\n",
       "</table>\n",
       "</div>"
      ],
      "text/plain": [
       "   car_name  car_prices_in_rupee  kms_driven  fuel_type  transmission  \\\n",
       "0 -0.891890            -0.064626    1.252101  -0.891890      0.661579   \n",
       "1 -0.749951             0.132456   -1.439881  -0.749951     -1.511536   \n",
       "2 -1.124465             0.383736    0.297340  -1.124465     -1.511536   \n",
       "3 -0.060776            -0.223699   -0.943817  -0.060776     -1.511536   \n",
       "4  0.252174            -0.408111    0.631947   0.252174      0.661579   \n",
       "\n",
       "   ownership  manufacture    engine     Seats  company_name  \n",
       "0  -0.572809     0.300127  0.733916 -0.349508     -0.394757  \n",
       "1  -0.572809     1.342413 -0.353952 -0.349508      1.342710  \n",
       "2  -0.572809     0.039556  1.668857 -0.349508      1.715024  \n",
       "3  -0.572809     0.560699 -0.581605 -0.349508     -0.891176  \n",
       "4  -0.572809     0.039556 -0.581605 -0.349508      1.839129  "
      ]
     },
     "execution_count": 50,
     "metadata": {},
     "output_type": "execute_result"
    }
   ],
   "source": [
    "s_s= StandardScaler()\n",
    "df_new = pd.DataFrame(s_s.fit_transform(df), columns = df.columns)\n",
    "df_new.head(5)"
   ]
  },
  {
   "cell_type": "code",
   "execution_count": null,
   "id": "f5beeffd-752a-44fd-baa6-298c1b8fcee1",
   "metadata": {},
   "outputs": [],
   "source": []
  }
 ],
 "metadata": {
  "kernelspec": {
   "display_name": "Python 3 (ipykernel)",
   "language": "python",
   "name": "python3"
  },
  "language_info": {
   "codemirror_mode": {
    "name": "ipython",
    "version": 3
   },
   "file_extension": ".py",
   "mimetype": "text/x-python",
   "name": "python",
   "nbconvert_exporter": "python",
   "pygments_lexer": "ipython3",
   "version": "3.11.7"
  }
 },
 "nbformat": 4,
 "nbformat_minor": 5
}
